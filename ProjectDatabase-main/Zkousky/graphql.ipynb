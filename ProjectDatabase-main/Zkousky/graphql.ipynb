{
 "cells": [
  {
   "cell_type": "code",
   "execution_count": 5,
   "id": "b1a4e37d-d1fb-47a1-9bcc-347349df675c",
   "metadata": {},
   "outputs": [
    {
     "name": "stdout",
     "output_type": "stream",
     "text": [
      "Requirement already satisfied: graphene in /opt/conda/lib/python3.9/site-packages (3.0)\n",
      "Requirement already satisfied: graphql-core~=3.1.2 in /opt/conda/lib/python3.9/site-packages (from graphene) (3.1.7)\n",
      "Requirement already satisfied: graphql-relay<4,>=3.0 in /opt/conda/lib/python3.9/site-packages (from graphene) (3.1.5)\n",
      "Requirement already satisfied: aniso8601<10,>=8 in /opt/conda/lib/python3.9/site-packages (from graphene) (9.0.1)\n",
      "Requirement already satisfied: starlette_graphene3 in /opt/conda/lib/python3.9/site-packages (0.5.1)\n",
      "Requirement already satisfied: graphene>=3.0b6 in /opt/conda/lib/python3.9/site-packages (from starlette_graphene3) (3.0)\n",
      "Requirement already satisfied: starlette>=0.14.1 in /opt/conda/lib/python3.9/site-packages (from starlette_graphene3) (0.17.1)\n",
      "Requirement already satisfied: graphql-relay<4,>=3.0 in /opt/conda/lib/python3.9/site-packages (from graphene>=3.0b6->starlette_graphene3) (3.1.5)\n",
      "Requirement already satisfied: graphql-core~=3.1.2 in /opt/conda/lib/python3.9/site-packages (from graphene>=3.0b6->starlette_graphene3) (3.1.7)\n",
      "Requirement already satisfied: aniso8601<10,>=8 in /opt/conda/lib/python3.9/site-packages (from graphene>=3.0b6->starlette_graphene3) (9.0.1)\n",
      "Requirement already satisfied: anyio<4,>=3.0.0 in /opt/conda/lib/python3.9/site-packages (from starlette>=0.14.1->starlette_graphene3) (3.5.0)\n",
      "Requirement already satisfied: idna>=2.8 in /opt/conda/lib/python3.9/site-packages (from anyio<4,>=3.0.0->starlette>=0.14.1->starlette_graphene3) (3.3)\n",
      "Requirement already satisfied: sniffio>=1.1 in /opt/conda/lib/python3.9/site-packages (from anyio<4,>=3.0.0->starlette>=0.14.1->starlette_graphene3) (1.2.0)\n",
      "Requirement already satisfied: uvicorn[standard] in /opt/conda/lib/python3.9/site-packages (0.17.6)\n",
      "Requirement already satisfied: click>=7.0 in /opt/conda/lib/python3.9/site-packages (from uvicorn[standard]) (8.0.4)\n",
      "Requirement already satisfied: h11>=0.8 in /opt/conda/lib/python3.9/site-packages (from uvicorn[standard]) (0.13.0)\n",
      "Requirement already satisfied: asgiref>=3.4.0 in /opt/conda/lib/python3.9/site-packages (from uvicorn[standard]) (3.5.0)\n",
      "Requirement already satisfied: websockets>=10.0 in /opt/conda/lib/python3.9/site-packages (from uvicorn[standard]) (10.2)\n",
      "Requirement already satisfied: uvloop!=0.15.0,!=0.15.1,>=0.14.0 in /opt/conda/lib/python3.9/site-packages (from uvicorn[standard]) (0.16.0)\n",
      "Requirement already satisfied: httptools>=0.4.0 in /opt/conda/lib/python3.9/site-packages (from uvicorn[standard]) (0.4.0)\n",
      "Requirement already satisfied: watchgod>=0.6 in /opt/conda/lib/python3.9/site-packages (from uvicorn[standard]) (0.8.2)\n",
      "Requirement already satisfied: python-dotenv>=0.13 in /opt/conda/lib/python3.9/site-packages (from uvicorn[standard]) (0.20.0)\n",
      "Requirement already satisfied: PyYAML>=5.1 in /opt/conda/lib/python3.9/site-packages (from uvicorn[standard]) (6.0)\n",
      "Requirement already satisfied: anyio<4,>=3.0.0 in /opt/conda/lib/python3.9/site-packages (from watchgod>=0.6->uvicorn[standard]) (3.5.0)\n",
      "Requirement already satisfied: sniffio>=1.1 in /opt/conda/lib/python3.9/site-packages (from anyio<4,>=3.0.0->watchgod>=0.6->uvicorn[standard]) (1.2.0)\n",
      "Requirement already satisfied: idna>=2.8 in /opt/conda/lib/python3.9/site-packages (from anyio<4,>=3.0.0->watchgod>=0.6->uvicorn[standard]) (3.3)\n",
      "Requirement already satisfied: fastapi in /opt/conda/lib/python3.9/site-packages (0.75.1)\n",
      "Requirement already satisfied: starlette==0.17.1 in /opt/conda/lib/python3.9/site-packages (from fastapi) (0.17.1)\n",
      "Requirement already satisfied: pydantic!=1.7,!=1.7.1,!=1.7.2,!=1.7.3,!=1.8,!=1.8.1,<2.0.0,>=1.6.2 in /opt/conda/lib/python3.9/site-packages (from fastapi) (1.9.0)\n",
      "Requirement already satisfied: anyio<4,>=3.0.0 in /opt/conda/lib/python3.9/site-packages (from starlette==0.17.1->fastapi) (3.5.0)\n",
      "Requirement already satisfied: typing-extensions>=3.7.4.3 in /opt/conda/lib/python3.9/site-packages (from pydantic!=1.7,!=1.7.1,!=1.7.2,!=1.7.3,!=1.8,!=1.8.1,<2.0.0,>=1.6.2->fastapi) (3.7.4.3)\n",
      "Requirement already satisfied: sniffio>=1.1 in /opt/conda/lib/python3.9/site-packages (from anyio<4,>=3.0.0->starlette==0.17.1->fastapi) (1.2.0)\n",
      "Requirement already satisfied: idna>=2.8 in /opt/conda/lib/python3.9/site-packages (from anyio<4,>=3.0.0->starlette==0.17.1->fastapi) (3.3)\n"
     ]
    }
   ],
   "source": [
    "!pip install graphene\n",
    "!pip install starlette_graphene3\n",
    "!pip install uvicorn[standard]\n",
    "!pip install fastapi"
   ]
  },
  {
   "cell_type": "code",
   "execution_count": 6,
   "id": "66fdcf8b-cec2-4570-b8c6-f9fbb5a9ab23",
   "metadata": {},
   "outputs": [
    {
     "ename": "NameError",
     "evalue": "name 'port' is not defined",
     "output_type": "error",
     "traceback": [
      "\u001b[0;31m---------------------------------------------------------------------------\u001b[0m",
      "\u001b[0;31mNameError\u001b[0m                                 Traceback (most recent call last)",
      "Input \u001b[0;32mIn [6]\u001b[0m, in \u001b[0;36m<cell line: 1>\u001b[0;34m()\u001b[0m\n\u001b[0;32m----> 1\u001b[0m \u001b[38;5;28;01massert\u001b[39;00m \u001b[43mport\u001b[49m \u001b[38;5;129;01min\u001b[39;00m [\u001b[38;5;241m9991\u001b[39m, \u001b[38;5;241m9992\u001b[39m, \u001b[38;5;241m9993\u001b[39m, \u001b[38;5;241m9994\u001b[39m]\n",
      "\u001b[0;31mNameError\u001b[0m: name 'port' is not defined"
     ]
    }
   ],
   "source": [
    "assert port in [9991, 9992, 9993, 9994]"
   ]
  },
  {
   "cell_type": "code",
   "execution_count": 7,
   "id": "7e6ee4ec-8d4d-425e-a09d-dc2988fa2a0b",
   "metadata": {},
   "outputs": [],
   "source": [
    "import uvicorn\n",
    "from multiprocessing import Process\n",
    "\n",
    "servers = {}\n",
    "_api_process = None\n",
    "\n",
    "def start_api(app=None, port=9992, runNew=True):\n",
    "    \"\"\"Stop the API if running; Start the API; Wait until API (port) is available (reachable)\"\"\"\n",
    "    assert port in [9991, 9992, 9993, 9994], f'port has unexpected value {port}'\n",
    "    def run():\n",
    "        uvicorn.run(app, port=port, host='0.0.0.0', root_path='')    \n",
    "        \n",
    "    _api_process = servers.get(port, None)\n",
    "    if _api_process:\n",
    "        _api_process.terminate()\n",
    "        _api_process.join()\n",
    "        del servers[port]\n",
    "    \n",
    "    if runNew:\n",
    "        assert (not app is None), 'app is None'\n",
    "        _api_process = Process(target=run, daemon=True)\n",
    "        _api_process.start()\n",
    "        servers[port] = _api_process"
   ]
  },
  {
   "cell_type": "code",
   "execution_count": 8,
   "id": "58fe7031-014c-476a-b304-031c99c7f2f4",
   "metadata": {},
   "outputs": [],
   "source": [
    "import graphene\n",
    "\n",
    "class ExamGQL(graphene.ObjectType):\n",
    "    id = graphene.ID()\n",
    "    typ = graphene.String()\n",
    "    exam_date = graphene.String()\n",
    "    student_capacity = graphene.Int() \n",
    "    signed_students = graphene.List(UserGQL) #ForeignKey\n",
    "    additional_information = graphene.String()\n",
    "    subject_id = graphene.Int() #ForeignKey ID/Int?\n",
    "    \n",
    "class UserGQL(graphene.ObjectType):\n",
    "    id = graphene.ID()\n",
    "    name = graphene.String()\n",
    "    surname = graphene.String()\n",
    "    title = graphene.String()\n",
    "    email = graphene.String()\n",
    "    phone_number = graphene.String()\n",
    "    id_study_group = graphene.ID() #ForeignKey\n",
    "    \n",
    "\n",
    "    #vztahy? presne definovat nazvy (\"exams_examiners = ...\")\n",
    "    #groups = graphene.Field(graphene.List(lambda: GroupGQL))\n",
    "    exams = graphene.Field(graphene.List(lambda: ExamGQL))\n",
    "    #vztahy? neni nutne\n",
    "    #def resolve_groups(parent, info):\n",
    "     #   return parent.groups    \n",
    "    \n",
    "class SubjectGQL(graphene.ObjectType):\n",
    "    id = graphene.ID()\n",
    "    id_study_group = graphene.ID() #ForeignKey\n",
    "    name = graphene.String()\n",
    "    \n",
    "class StudyGroupModel(graphene.ObjectType):\n",
    "    id = graphene.ID()\n",
    "    name = graphene.String()\n",
    "    \n",
    "class AuthorizationModel(graphene.ObjectType):\n",
    "    id = graphene.ID()\n",
    "    web_admin = graphene.Boolean()\n",
    "    student = graphene.Boolean()\n",
    "    examiner = graphene.Boolean()\n",
    "\n",
    "class QueryGQL(graphene.ObjectType):\n",
    "    user = graphene.Field(UserGQL, id = graphene.ID(required = True))\n",
    "    "
   ]
  },
  {
   "cell_type": "code",
   "execution_count": 7,
   "id": "dea81e59-13cf-498a-97b5-0d055ad7c831",
   "metadata": {},
   "outputs": [
    {
     "ename": "NameError",
     "evalue": "name 'start_api' is not defined",
     "output_type": "error",
     "traceback": [
      "\u001b[0;31m---------------------------------------------------------------------------\u001b[0m",
      "\u001b[0;31mNameError\u001b[0m                                 Traceback (most recent call last)",
      "Input \u001b[0;32mIn [7]\u001b[0m, in \u001b[0;36m<cell line: 16>\u001b[0;34m()\u001b[0m\n\u001b[1;32m     13\u001b[0m     \u001b[38;5;28;01mreturn\u001b[39;00m {\u001b[38;5;124m'\u001b[39m\u001b[38;5;124mhello\u001b[39m\u001b[38;5;124m'\u001b[39m: \u001b[38;5;124m'\u001b[39m\u001b[38;5;124mworld\u001b[39m\u001b[38;5;124m'\u001b[39m}\n\u001b[1;32m     15\u001b[0m app\u001b[38;5;241m.\u001b[39madd_route(\u001b[38;5;124m'\u001b[39m\u001b[38;5;124m/gql/\u001b[39m\u001b[38;5;124m'\u001b[39m, graphql_app)\n\u001b[0;32m---> 16\u001b[0m \u001b[43mstart_api\u001b[49m(app\u001b[38;5;241m=\u001b[39mapp, port\u001b[38;5;241m=\u001b[39m\u001b[38;5;241m9992\u001b[39m, runNew\u001b[38;5;241m=\u001b[39m\u001b[38;5;28;01mTrue\u001b[39;00m)\n",
      "\u001b[0;31mNameError\u001b[0m: name 'start_api' is not defined"
     ]
    }
   ],
   "source": [
    "#from starlette.graphql import GraphQLApp\n",
    "from starlette_graphene3 import GraphQLApp, make_graphiql_handler\n",
    "\n",
    "import graphene\n",
    "from fastapi import FastAPI\n",
    "\n",
    "graphql_app = GraphQLApp(schema=graphene.Schema(query=QueryGQL), on_get=make_graphiql_handler())\n",
    "\n",
    "app = FastAPI()#root_path='/api')\n",
    "\n",
    "@app.get('/')\n",
    "def hello():\n",
    "    return {'hello': 'world'}\n",
    "\n",
    "app.add_route('/gql/', graphql_app)\n",
    "start_api(app=app, port=9992, runNew=True)"
   ]
  },
  {
   "cell_type": "code",
   "execution_count": 15,
   "id": "bf83c5c1-9a13-4581-8f48-d7dddc542aed",
   "metadata": {},
   "outputs": [
    {
     "ename": "NameError",
     "evalue": "name 'app' is not defined",
     "output_type": "error",
     "traceback": [
      "\u001b[0;31m---------------------------------------------------------------------------\u001b[0m",
      "\u001b[0;31mNameError\u001b[0m                                 Traceback (most recent call last)",
      "Input \u001b[0;32mIn [15]\u001b[0m, in \u001b[0;36m<cell line: 2>\u001b[0;34m()\u001b[0m\n\u001b[1;32m      1\u001b[0m \u001b[38;5;66;03m#ukonceni, uvoleneni portu\u001b[39;00m\n\u001b[0;32m----> 2\u001b[0m start_api(app\u001b[38;5;241m=\u001b[39m\u001b[43mapp\u001b[49m, port\u001b[38;5;241m=\u001b[39m\u001b[38;5;241m9992\u001b[39m, runNew\u001b[38;5;241m=\u001b[39m\u001b[38;5;28;01mFalse\u001b[39;00m)\n",
      "\u001b[0;31mNameError\u001b[0m: name 'app' is not defined"
     ]
    }
   ],
   "source": [
    "#ukonceni, uvoleneni portu\n",
    "start_api(app=app, port=9992, runNew=False)"
   ]
  },
  {
   "cell_type": "code",
   "execution_count": null,
   "id": "64b4b338-2737-49e1-b1f7-9676edc3f635",
   "metadata": {},
   "outputs": [],
   "source": []
  }
 ],
 "metadata": {
  "kernelspec": {
   "display_name": "Python 3 (ipykernel)",
   "language": "python",
   "name": "python3"
  },
  "language_info": {
   "codemirror_mode": {
    "name": "ipython",
    "version": 3
   },
   "file_extension": ".py",
   "mimetype": "text/x-python",
   "name": "python",
   "nbconvert_exporter": "python",
   "pygments_lexer": "ipython3",
   "version": "3.9.10"
  }
 },
 "nbformat": 4,
 "nbformat_minor": 5
}
